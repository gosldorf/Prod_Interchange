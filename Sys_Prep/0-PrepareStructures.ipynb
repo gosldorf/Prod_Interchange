{
 "cells": [
  {
   "cell_type": "markdown",
   "id": "34168f0f",
   "metadata": {},
   "source": [
    "## Notebook intended to be used for the initial steps of parameterizing a P-L system using openff-toolkit\n",
    "\n",
    "This is the very basic first steps notebook, herein we shall:\n",
    "\n",
    "1) Copy rcsb structure file over to this directory\n",
    "\n",
    "2) Extract ligand from structure using pymol\n",
    "\n",
    "3) Correct ligand bond orders from extracted pdb using rdkit and then save to sdf\n",
    "\n",
    "4) Basic preparation of protein using pdbfixer to fill in any missing sidechains\n",
    "\n",
    "5) Cap termini of protein\n",
    "\n",
    "6) confirm prepared protein structure runs through tleap successfully"
   ]
  },
  {
   "cell_type": "code",
   "execution_count": 1,
   "id": "ac28632a",
   "metadata": {},
   "outputs": [],
   "source": [
    "####################Import Block#########################\n",
    "##General imports:\n",
    "from pathlib import Path ##to use in defining paths and what not\n",
    "import glob ##glob for globbing files\n",
    "import os ##os for system commands\n",
    "import shutil ##moving files\n",
    "##CADD things:\n",
    "from pymol import cmd  ##pymol for manipulating structures\n",
    "from rdkit import Chem ##Chem module of rdkit for interacting with small molecules\n",
    "from rdkit.Chem import AllChem ##Allchem has the methods for handling bond orders needed\n",
    "from pdbfixer import PDBFixer ## pdbfixer is a command line tool for fixing rcsb structure issues\n",
    "from openmm.app import PDBFile\n",
    "####################Import Block#########################"
   ]
  },
  {
   "cell_type": "code",
   "execution_count": 2,
   "id": "6c51d52f",
   "metadata": {},
   "outputs": [
    {
     "name": "stdout",
     "output_type": "stream",
     "text": [
      "/home/sramsey/Gits/Protein-Ligand-Build/example1\n"
     ]
    }
   ],
   "source": [
    "## Set working directory\n",
    "current_dir = Path().absolute()\n",
    "print(current_dir)"
   ]
  },
  {
   "cell_type": "code",
   "execution_count": 3,
   "id": "dc361c87",
   "metadata": {},
   "outputs": [
    {
     "name": "stdout",
     "output_type": "stream",
     "text": [
      "/home/sramsey/Gits/Protein-Ligand-Build/raw_input\n"
     ]
    }
   ],
   "source": [
    "## Set directory where input file starts\n",
    "input_dir = Path('/home/sramsey/Gits/Protein-Ligand-Build/raw_input')\n",
    "print(input_dir)"
   ]
  },
  {
   "cell_type": "code",
   "execution_count": 4,
   "id": "e8fc184f",
   "metadata": {},
   "outputs": [
    {
     "data": {
      "text/plain": [
       "['/home/sramsey/Gits/Protein-Ligand-Build/raw_input/5bt3.pdb']"
      ]
     },
     "execution_count": 4,
     "metadata": {},
     "output_type": "execute_result"
    }
   ],
   "source": [
    "## generate list of input structures in your input directory\n",
    "structures = glob.glob(str(input_dir) + '/*.pdb')\n",
    "structures"
   ]
  },
  {
   "cell_type": "code",
   "execution_count": 5,
   "id": "84a39892",
   "metadata": {},
   "outputs": [
    {
     "data": {
      "text/plain": [
       "'/home/sramsey/Gits/Protein-Ligand-Build/raw_input/5bt3.pdb'"
      ]
     },
     "execution_count": 5,
     "metadata": {},
     "output_type": "execute_result"
    }
   ],
   "source": [
    "structures[0]"
   ]
  },
  {
   "cell_type": "code",
   "execution_count": 6,
   "id": "bbd85e82",
   "metadata": {},
   "outputs": [
    {
     "data": {
      "text/plain": [
       "'/home/sramsey/Gits/Protein-Ligand-Build/example1/5bt3.pdb'"
      ]
     },
     "execution_count": 6,
     "metadata": {},
     "output_type": "execute_result"
    }
   ],
   "source": [
    "##copy file to working directory\n",
    "shutil.copy(structures[0], str(current_dir / '5bt3.pdb'))"
   ]
  },
  {
   "cell_type": "code",
   "execution_count": 7,
   "id": "7a95773b",
   "metadata": {},
   "outputs": [
    {
     "name": "stdout",
     "output_type": "stream",
     "text": [
      "0-PrepareStructures.ipynb   5bt3_fixed4.pdb    leap.log    xtal_ligand.pdb\r\n",
      "1-openff_systembuild.ipynb  5bt3_fixed.pdb     ligand.sdf\r\n",
      "5bt3_fixed2.pdb             5bt3.pdb           README.md\r\n",
      "5bt3_fixed3.pdb             5bt3_prepared.pdb  tleap.in\r\n"
     ]
    }
   ],
   "source": [
    "ls"
   ]
  },
  {
   "cell_type": "markdown",
   "id": "a3ae176b",
   "metadata": {},
   "source": [
    "from https://www.rcsb.org/structure/5bt3 the ligand resname is 2LO\n",
    "\n",
    "https://www.rcsb.org/ligand/2LO\n",
    "\n",
    "inchikey: \tGEPYBHCJBORHCE-SFHVURJKSA-N\n",
    "\n",
    "isomeric smiles:\t\"Cc1c(c(on1)C)c2ccc3c(c2)nc(n3C[C@H](C)N4CCOCC4)CCc5ccc(c(c5)Cl)OC\""
   ]
  },
  {
   "cell_type": "code",
   "execution_count": 8,
   "id": "5d26ba75",
   "metadata": {},
   "outputs": [],
   "source": [
    "##extract ligand from 5bt3.pdb original\n",
    "cmd.reinitialize() #start new pymol session (command line)\n",
    "cmd.load('5bt3.pdb') ##load file\n",
    "cmd.select('ligand', 'resn 2LO') #select resname 2LO in object named ligand\n",
    "cmd.save('xtal_ligand.pdb','ligand')"
   ]
  },
  {
   "cell_type": "code",
   "execution_count": 9,
   "id": "010f4154",
   "metadata": {},
   "outputs": [
    {
     "data": {
      "image/png": "[encoded data removed]",
      "text/plain": [
       "<rdkit.Chem.rdchem.Mol at 0x7f4b15286420>"
      ]
     },
     "execution_count": 9,
     "metadata": {},
     "output_type": "execute_result"
    }
   ],
   "source": [
    "##correct bond orders of ligand using rdkit and the smiles from https://www.rcsb.org/ligand/2LO\n",
    "ligand = 'xtal_ligand.pdb'\n",
    "corrected_ligand = 'ligand.sdf'\n",
    "smiles = 'Cc1c(c(on1)C)c2ccc3c(c2)nc(n3C[C@H](C)N4CCOCC4)CCc5ccc(c(c5)Cl)OC'\n",
    "template = Chem.MolFromSmiles(smiles) ##create chem object based on smiles string\n",
    "template ##view ligand from smiles"
   ]
  },
  {
   "cell_type": "code",
   "execution_count": 10,
   "id": "81a4237c",
   "metadata": {},
   "outputs": [
    {
     "name": "stderr",
     "output_type": "stream",
     "text": [
      "[11:42:18] WARNING: More than one matching pattern found - picking one\n",
      "\n"
     ]
    }
   ],
   "source": [
    "rawMol = AllChem.MolFromPDBFile(ligand) #load ligand from xtal\n",
    "corMol = AllChem.AssignBondOrdersFromTemplate(template, rawMol) #apply bond orders from template to xtal\n",
    "corMol_H = Chem.AddHs(corMol, addCoords=True) #add hydrogens\n",
    "Chem.MolToMolFile(corMol_H, corrected_ligand) #save file as sdf"
   ]
  },
  {
   "cell_type": "markdown",
   "id": "75c1b51f",
   "metadata": {},
   "source": [
    "### Protein steps now\n",
    "\n",
    "Before we start to prepare a protein structure there are a few preliminary steps to perform:\n",
    "\n",
    "1) Visualize the protein in pymol, with particular focus on binding site and sequence in xtal\n",
    "\n",
    "2) Check the header file of your structure to find relevant metadata\n",
    "\n",
    "i) Missing Residues section (line 289 here in 5bt3.pdb)\n",
    "  \n",
    "ii) Missing atoms (no separate section here in 5bt3.pdb)\n",
    "  \n",
    "iii) SEQRES which defines the sequence as will be prepared by pdbfixer\n",
    "  \n",
    "3) Decide if you want to add missing residues or not. In this case (5bt3) the missing residues are two residues on the N termini which are...unimportant for us so we will not add those back on"
   ]
  },
  {
   "cell_type": "markdown",
   "id": "daf0184b",
   "metadata": {},
   "source": [
    "pdbfixer command line example command\n",
    "\n",
    "pdbfixer 5bt3.pdb --output=5bt3_fixed.pdb --add-atoms=all --replace-nonstandard --keep-heterogens=water"
   ]
  },
  {
   "cell_type": "code",
   "execution_count": 11,
   "id": "72dc8a71",
   "metadata": {},
   "outputs": [],
   "source": [
    "fixer = PDBFixer(filename='5bt3.pdb')\n",
    "fixer.findNonstandardResidues() #check for modded amino acids\n",
    "fixer.replaceNonstandardResidues() #replace nonstandards with equivalent standard residues\n",
    "fixer.removeHeterogens(True) #remove heterogens removes all non protein, 'TRUE' here says to keepwater, 'FALSE' to delete water too\n",
    "# fixer.findMissingResidues()\n",
    "# fixer.findMissingAtoms()\n",
    "# fixer.addMissingAtoms()\n",
    "# previous lines are omitted here since we are not missing atoms and do not want to add the missing residues in our example structure\n",
    "fixer.addMissingHydrogens(7.0) #option is for pH\n",
    "PDBFile.writeFile(fixer.topology, fixer.positions, open('5bt3_fixed2.pdb', 'w'))"
   ]
  },
  {
   "cell_type": "markdown",
   "id": "4bba44c6",
   "metadata": {},
   "source": [
    "### Finalize protein preparatory steps\n",
    "\n",
    "At this stage the protein file is at least nominally ready for simulations in that:\n",
    "\n",
    "1) it is protonated\n",
    "\n",
    "2) missing residues/atoms added\n",
    "\n",
    "3) removed heterogens other than water\n",
    "\n",
    "What remains to be done is to add capping residues to the protein if desired to neutralize the two termini and this process is pretty annoying to execute by command line, but possible"
   ]
  },
  {
   "cell_type": "markdown",
   "id": "76a711b9",
   "metadata": {},
   "source": [
    "### Adding caps to termini\n",
    "\n",
    "So typically when simulating protein systems in explicit solvent (or generally, really) it is best to cap the termini. These caps are uncharged modified residues that replace the otherwise charged N and C termini. Uncapped termini are not necessarily 'wrong' or 'bad', but since we are not often interested in interactions formed or maintained by the charges that would be otherwise modelled onto these termini it is usually recommended to replace the charged termini with the capping residues.\n",
    "\n",
    "To this end you have several options as a modeller, you can use spruce or maestro tools for protein preparation to perform previous steps in this notebook (such as protonation and filling in missing atoms/residues) and indeed those software suites will also assist in capping your termini. \n",
    "\n",
    "But you can also do this yourself 'manually' so to speak. \n",
    "\n",
    "Manual action here requires editing the terminal residues such that when the structure is fed through tleap it will complete the template of the capped residues for you. To this end you should familiarize yourself with the residue template library within tleap:\n",
    "\n",
    "AMBERHOME/dat/leap/lib/aminont12.lib and AMBERHOME/dat/leap/lib/aminoct12.lib, respectively. For reference standard amino acid residues can be seen in AMBERHOME/dat/leap/lib/amino12.lib (or a later version if you so desire)."
   ]
  },
  {
   "cell_type": "code",
   "execution_count": 12,
   "id": "00f09cf4",
   "metadata": {},
   "outputs": [
    {
     "name": "stdout",
     "output_type": "stream",
     "text": [
      "Idk just for formatting -- but these are the atom entries in the above listed library files\n",
      "\n",
      "What we need to do is to identify what are our desired terminal residues and to rename them and their heavy atoms appropriately. Delete the hydrogens on these.\n"
     ]
    }
   ],
   "source": [
    "'''\n",
    "!entry.ACE.unit.atoms table  str name  str type  int typex  int resx  int flags  int seq  int elmnt  dbl chg\n",
    " \"H1\" \"HC\" 0 1 131072 1 1 0.112300\n",
    " \"CH3\" \"CT\" 0 1 131072 2 6 -0.366200\n",
    " \"H2\" \"HC\" 0 1 131072 3 1 0.112300\n",
    " \"H3\" \"HC\" 0 1 131072 4 1 0.112300\n",
    " \"C\" \"C\" 0 1 131072 5 6 0.597200\n",
    " \"O\" \"O\" 0 1 131072 6 8 -0.567900\n",
    "'''\n",
    "\n",
    "'''\n",
    "!entry.NME.unit.atoms table  str name  str type  int typex  int resx  int flags  int seq  int elmnt  dbl chg\n",
    " \"N\" \"N\" 0 1 131072 1 7 -0.415700\n",
    " \"H\" \"H\" 0 1 131072 2 1 0.271900\n",
    " \"C\" \"CT\" 0 1 131072 3 6 -0.149000\n",
    " \"H1\" \"H1\" 0 1 131072 4 1 0.097600\n",
    " \"H2\" \"H1\" 0 1 131072 5 1 0.097600\n",
    " \"H3\" \"H1\" 0 1 131072 6 1 0.097600\n",
    "'''\n",
    "\n",
    "print('Idk just for formatting -- but these are the atom entries in the above listed library files')\n",
    "print('')\n",
    "print('What we need to do is to identify what are our desired terminal residues and to rename them and their heavy atoms appropriately. Delete the hydrogens on these.')"
   ]
  },
  {
   "cell_type": "markdown",
   "id": "7782d7c6",
   "metadata": {},
   "source": [
    "The easiest way to accomplish this is to alter the structure in pymol. Before we do anything in code take the time to visualize the structure in pymol and consider the termini (residue numbers in particular) but also their relative positions (should we be concerned with clashes or any other abberations?)\n",
    "\n",
    "In this structure example p300 (5bt3.pdb) the two termini ILE1 and GLY114 here are sort of nearby each other, but are fully solvent exposed so we can act with impunity when replacing them.\n",
    "\n",
    "So this is going to be replacing the O,C,CA atoms of ILE1 with O,C,CH3 atoms of our new ACE1\n",
    "\n",
    "And N,CA atoms of GLY114 with N,C atoms of NME114\n",
    "\n",
    "Finally after we make these adjustments we should run the structure through tleap to confirm that everything works...and then be sure to remove errant TER flags that will attempt to separate the caps from the protein (in terms of chain id)"
   ]
  },
  {
   "cell_type": "code",
   "execution_count": 13,
   "id": "3d35d637",
   "metadata": {},
   "outputs": [],
   "source": [
    "###okay enough discussion lets implement it!\n",
    "Nterm = 1 #variables for terminal identification\n",
    "Cterm = 114 #variables for terminal identification\n",
    "\n",
    "cmd.reinitialize() #start a new pymol session -- good idea to do this everytime\n",
    "cmd.load('5bt3_fixed2.pdb')\n",
    "#store atoms to delete in pymol objects:\n",
    "cmd.select('N-termini-remove', f'resi {Nterm} and polymer.protein and not name CA+C+O')\n",
    "cmd.select('C-termini-remove', f'resi {Cterm} and polymer.protein and not name CA+N')\n",
    "#in these commands the 'f' before the string enables formatting of bracketted variables\n",
    "### easy way to insert variables into whatever, in this case strings but could be other formats\n",
    "cmd.remove('N-termini-remove') #delete atoms\n",
    "cmd.remove('C-termini-remove') #delete atoms\n",
    "cmd.alter(f'resi {Nterm} and polymer.protein', 'resn=\"ACE\"') #alter selection with alterations specified in second argument\n",
    "cmd.alter(f'resi {Cterm} and polymer.protein', 'resn=\"NME\"')\n",
    "cmd.alter(f'resi {Nterm} and polymer.protein and name CA', 'name=\"CH3\"')\n",
    "cmd.alter(f'resi {Cterm} and polymer.protein and name CA', 'name=\"C\"')\n",
    "cmd.save('5bt3_fixed3.pdb', 'all')"
   ]
  },
  {
   "cell_type": "markdown",
   "id": "21026915",
   "metadata": {},
   "source": [
    "### Visualize your intermediate creations at every step!!! Especially when implementing a workflow for the first time or on any system for which you have time to scrutinize (which should be most of them lets be honest)"
   ]
  },
  {
   "cell_type": "markdown",
   "id": "7dc5260b",
   "metadata": {},
   "source": [
    "### And now for the final step! tleap to check that our protein structure works and to save the processed structure (such that it will contain all the capping atoms)\n",
    "\n",
    "After this step we will need to edit our final pdb file from these results, making sure to remove any TER's added unnecessarily. Didn't happen to me here but if it does add a TER between ACE or NME and the rest of the structure please delete it before using the structure in subsequent works.\n",
    "\n",
    "\n",
    "Every facet of pdb file formatting is important to ensure our final simulation system is exactly as desired."
   ]
  },
  {
   "cell_type": "code",
   "execution_count": 14,
   "id": "f1113fd0",
   "metadata": {
    "scrolled": true
   },
   "outputs": [
    {
     "name": "stdout",
     "output_type": "stream",
     "text": [
      "-I: Adding /home/sramsey/miniconda3/envs/openff_2/dat/leap/prep to search path.\n",
      "-I: Adding /home/sramsey/miniconda3/envs/openff_2/dat/leap/lib to search path.\n",
      "-I: Adding /home/sramsey/miniconda3/envs/openff_2/dat/leap/parm to search path.\n",
      "-I: Adding /home/sramsey/miniconda3/envs/openff_2/dat/leap/cmd to search path.\n",
      "-f: Source tleap.in.\n",
      "\n",
      "Welcome to LEaP!\n",
      "(no leaprc in search path)\n",
      "Sourcing: ./tleap.in\n",
      "----- Source: /home/sramsey/miniconda3/envs/openff_2/dat/leap/cmd/leaprc.protein.ff14SB\n",
      "----- Source of /home/sramsey/miniconda3/envs/openff_2/dat/leap/cmd/leaprc.protein.ff14SB done\n",
      "Log file: ./leap.log\n",
      "Loading parameters: /home/sramsey/miniconda3/envs/openff_2/dat/leap/parm/parm10.dat\n",
      "Reading title:\n",
      "PARM99 + frcmod.ff99SB + frcmod.parmbsc0 + OL3 for RNA\n",
      "Loading parameters: /home/sramsey/miniconda3/envs/openff_2/dat/leap/parm/frcmod.ff14SB\n",
      "Reading force field modification type file (frcmod)\n",
      "Reading title:\n",
      "ff14SB protein backbone and sidechain parameters\n",
      "Loading library: /home/sramsey/miniconda3/envs/openff_2/dat/leap/lib/amino12.lib\n",
      "Loading library: /home/sramsey/miniconda3/envs/openff_2/dat/leap/lib/aminoct12.lib\n",
      "Loading library: /home/sramsey/miniconda3/envs/openff_2/dat/leap/lib/aminont12.lib\n",
      "----- Source: /home/sramsey/miniconda3/envs/openff_2/dat/leap/cmd/leaprc.water.tip3p\n",
      "----- Source of /home/sramsey/miniconda3/envs/openff_2/dat/leap/cmd/leaprc.water.tip3p done\n",
      "Loading library: /home/sramsey/miniconda3/envs/openff_2/dat/leap/lib/atomic_ions.lib\n",
      "Loading library: /home/sramsey/miniconda3/envs/openff_2/dat/leap/lib/solvents.lib\n",
      "Loading parameters: /home/sramsey/miniconda3/envs/openff_2/dat/leap/parm/frcmod.tip3p\n",
      "Reading force field modification type file (frcmod)\n",
      "Reading title:\n",
      "This is the additional/replacement parameter set for TIP3P water\n",
      "Loading parameters: /home/sramsey/miniconda3/envs/openff_2/dat/leap/parm/frcmod.ions1lm_126_tip3p\n",
      "Reading force field modification type file (frcmod)\n",
      "Reading title:\n",
      "Li/Merz ion parameters of monovalent ions for TIP3P water model (12-6 normal usage set)\n",
      "Loading parameters: /home/sramsey/miniconda3/envs/openff_2/dat/leap/parm/frcmod.ionsjc_tip3p\n",
      "Reading force field modification type file (frcmod)\n",
      "Reading title:\n",
      "Monovalent ion parameters for Ewald and TIP3P water from Joung & Cheatham JPCB (2008)\n",
      "Loading parameters: /home/sramsey/miniconda3/envs/openff_2/dat/leap/parm/frcmod.ions234lm_126_tip3p\n",
      "Reading force field modification type file (frcmod)\n",
      "Reading title:\n",
      "Li/Merz ion parameters of divalent to tetravalent ions for TIP3P water model (12-6 normal usage set)\n",
      "Loading PDB file: ./5bt3_fixed3.pdb\n",
      "  total atoms in file: 2446\n",
      "  Leap added 7 missing atoms according to residue templates:\n",
      "       7 H / lone pairs\n",
      "Writing pdb file: 5bt3_fixed4.pdb\n",
      "\tQuit\n",
      "\n",
      "Exiting LEaP: Errors = 0; Warnings = 0; Notes = 0.\n"
     ]
    },
    {
     "data": {
      "text/plain": [
       "0"
      ]
     },
     "execution_count": 14,
     "metadata": {},
     "output_type": "execute_result"
    }
   ],
   "source": [
    "#write our tleap input file from our python script\n",
    "with open('tleap.in','w') as file:\n",
    "    l1 = \"source leaprc.protein.ff14SB\\n\"\n",
    "    l2 = \"source leaprc.water.tip3p\\n\" ##needed since we include xtal waters\n",
    "    l3 = \"protein = loadpdb 5bt3_fixed3.pdb\\n\" #loading and saving is enough to add our atoms\n",
    "    l4 = \"savepdb protein 5bt3_fixed4.pdb\\n\"\n",
    "    l5 = \"quit\"\n",
    "    file.writelines([l1, l2, l3, l4, l5])\n",
    "    \n",
    "os.system(\"tleap -f tleap.in\") #run tleap from our python script"
   ]
  },
  {
   "cell_type": "code",
   "execution_count": 20,
   "id": "9ee13ab5",
   "metadata": {},
   "outputs": [],
   "source": [
    "### Shoot one more thing! When we run tleap over our system we alter the chain id\n",
    "## of everything. Well really we delete it.\n",
    "### So before we move on we need to take a quick detour and alter our structure in pymol to address this\n",
    "\n",
    "\n",
    "cmd.reinitialize()\n",
    "cmd.load('5bt3_fixed4.pdb')\n",
    "cmd.alter('resn WAT','chain=\"W\"')\n",
    "cmd.alter('polymer.protein or resn ACE+NME','chain=\"A\"') #need to be explicit to include caps\n",
    "#pymol treats caps as not protein by default :D\n",
    "##ALSO since we will be adding solvent using PDBFixer in the next notebook\n",
    "### PDBFixer thinks NME should be NMA so lets adjust that now\n",
    "cmd.alter('resn NME','resn=\"NMA\"')\n",
    "cmd.save('5bt3_fixed5.pdb')"
   ]
  },
  {
   "cell_type": "markdown",
   "id": "558b9f53",
   "metadata": {},
   "source": [
    "### Congratulations!! Now we have our protein and ligands prepared and ready for system building in openmm for simulations."
   ]
  },
  {
   "cell_type": "code",
   "execution_count": 21,
   "id": "24391e7a",
   "metadata": {},
   "outputs": [
    {
     "data": {
      "text/plain": [
       "0"
      ]
     },
     "execution_count": 21,
     "metadata": {},
     "output_type": "execute_result"
    }
   ],
   "source": [
    "###TODO need to remove TER card added between protein and NMA when saving in pymol\n",
    "\n",
    "os.system('cp 5bt3_fixed5.pdb 5bt3_prepared.pdb') #copying final file and renaming it from our temp suffix"
   ]
  },
  {
   "cell_type": "code",
   "execution_count": null,
   "id": "855bda87",
   "metadata": {},
   "outputs": [],
   "source": []
  }
 ],
 "metadata": {
  "kernelspec": {
   "display_name": "openff",
   "language": "python",
   "name": "openff"
  },
  "language_info": {
   "codemirror_mode": {
    "name": "ipython",
    "version": 3
   },
   "file_extension": ".py",
   "mimetype": "text/x-python",
   "name": "python",
   "nbconvert_exporter": "python",
   "pygments_lexer": "ipython3",
   "version": "3.10.11"
  }
 },
 "nbformat": 4,
 "nbformat_minor": 5
}
